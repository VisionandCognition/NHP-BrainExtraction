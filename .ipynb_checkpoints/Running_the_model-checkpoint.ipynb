{
 "cells": [
  {
   "cell_type": "markdown",
   "metadata": {},
   "source": [
    "# Brain extraction with a pre-trained U-Net model     \n",
    "Some code-snippets for applying the U-Net brain extraction model.     \n",
    "See README.md for details."
   ]
  },
  {
   "cell_type": "markdown",
   "metadata": {},
   "source": [
    "## Brain extraction    \n",
    "Define which input to use and which model to use.     \n",
    "Model options:    \n",
    "- **Site-All-T-epoch_36.model**: Trained on 12 macaques across 6 sites (2 macaques per site) from PRIME-DE. Six sites include newcastle, ucdavis, oxford, ion, ecnu-chen, and sbri.     \n",
    "- **Site-All-T-epoch_36_update_with_Site_6_plus_7-epoch_09.model**: Trained on 19 macaques across 13 sites from PRIME-DE (12 macaques across 6 sites used in the first model and 7 macaques across 7 additional sites) Seven sites include NIMH, ecnu-k, nin, rockefeller, uwo, mountsinai-S, and lyon.     \n",
    "- **Site-All-T-epoch_36_update_with_Site_\\*.model**: Site-specific model for NIMH, ecnu-k, nin, rockefeller, uwo, mountsinai-S, and lyon.    "
   ]
  },
  {
   "cell_type": "markdown",
   "metadata": {},
   "source": [
    "#### Configure"
   ]
  },
  {
   "cell_type": "code",
   "execution_count": 1,
   "metadata": {},
   "outputs": [],
   "source": [
    "infile = 'Danny.nii.gz'\n",
    "model = 'Site-All-T-epoch_36_update_with_Site_6_plus_7-epoch_09.model'"
   ]
  },
  {
   "cell_type": "markdown",
   "metadata": {},
   "source": [
    "#### Run"
   ]
  },
  {
   "cell_type": "code",
   "execution_count": null,
   "metadata": {},
   "outputs": [],
   "source": [
    "arg_in = '-in ./Data/input/' + infile\n",
    "arg_model = '-model ./UNet_Model/models/' + model\n",
    "arg_out = '-out ./Data/output'\n",
    "\n",
    "!python3 ./UNet_Model/muSkullStrip.py $arg_in $arg_model $arg_out"
   ]
  },
  {
   "cell_type": "markdown",
   "metadata": {},
   "source": [
    "## Update model with additional brains    \n",
    "Define which model to start with and which files to add to the training.     \n",
    "Model options:    \n",
    "- **Site-All-T-epoch_36.model**: Trained on 12 macaques across 6 sites (2 macaques per site) from PRIME-DE. Six sites include newcastle, ucdavis, oxford, ion, ecnu-chen, and sbri.     \n",
    "- **Site-All-T-epoch_36_update_with_Site_6_plus_7-epoch_09.model**: Trained on 19 macaques across 13 sites from PRIME-DE (12 macaques across 6 sites used in the first model and 7 macaques across 7 additional sites) Seven sites include NIMH, ecnu-k, nin, rockefeller, uwo, mountsinai-S, and lyon.     \n",
    "- **Site-All-T-epoch_36_update_with_Site_\\*.model**: Site-specific model for NIMH, ecnu-k, nin, rockefeller, uwo, mountsinai-S, and lyon.   "
   ]
  },
  {
   "cell_type": "code",
   "execution_count": null,
   "metadata": {},
   "outputs": [],
   "source": [
    "init_model = 'Site-All-T-epoch_36_update_with_Site_6_plus_7-epoch_09.model'"
   ]
  },
  {
   "cell_type": "code",
   "execution_count": null,
   "metadata": {},
   "outputs": [],
   "source": [
    "trt1w = './TrainingSet/t1w'\n",
    "trmsk = './TrainingSet/mask'\n",
    "out = './TrainingSet/output' \n",
    "vt1w = './TrainingSet/val_t1w' \n",
    "vmsk = './TrainingSet/val_mask' \n",
    "init = './Unet_Model/models/' + init_model"
   ]
  },
  {
   "cell_type": "code",
   "execution_count": null,
   "metadata": {},
   "outputs": [],
   "source": [
    "arg_trt1w = '-trt1w ' + trt1w\n",
    "arg_trmsk = '-trmsk ' + trmsk \n",
    "arg_out = '-out ' + out \n",
    "arg_vt1w = '-vt1w ' + vt1w\n",
    "arg_vmsk = '-vmsk ' + vmsk\n",
    "arg_init = '-init ' + init\n",
    "\n",
    "!python3 ./UNet_Model/trainSs_UNet.py $arg_trt1w $arg_trmsk $arg_out $arg_vt1w $arg_vmsk $arg_init "
   ]
  }
 ],
 "metadata": {
  "kernelspec": {
   "display_name": "Python 3",
   "language": "python",
   "name": "python3"
  },
  "language_info": {
   "codemirror_mode": {
    "name": "ipython",
    "version": 3
   },
   "file_extension": ".py",
   "mimetype": "text/x-python",
   "name": "python",
   "nbconvert_exporter": "python",
   "pygments_lexer": "ipython3",
   "version": "3.8.5"
  }
 },
 "nbformat": 4,
 "nbformat_minor": 4
}
